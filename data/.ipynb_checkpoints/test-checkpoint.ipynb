{
 "cells": [
  {
   "cell_type": "code",
   "execution_count": 14,
   "id": "87bdbc23",
   "metadata": {
    "scrolled": true
   },
   "outputs": [
    {
     "name": "stdout",
     "output_type": "stream",
     "text": [
      "tensor([[4023, 4027, 4906,  ..., 7474, 1067, 2160],\n",
      "        [   0,    0,    0,  ..., 9358, 9359, 9359]]) tensor([1., 1., 1.,  ..., 1., 1., 1.], dtype=torch.float64)\n",
      "[[0 0 0 ... 0 0 0]\n",
      " [0 0 0 ... 0 0 0]\n",
      " [0 0 0 ... 0 0 0]\n",
      " ...\n",
      " [0 0 0 ... 0 0 0]\n",
      " [0 0 0 ... 0 0 0]\n",
      " [0 0 0 ... 0 0 0]]   (4023, 0)\t1.0\n",
      "  (4027, 0)\t1.0\n",
      "  (4906, 0)\t1.0\n",
      "  (5243, 0)\t1.0\n",
      "  (7195, 0)\t1.0\n",
      "  (1235, 1)\t1.0\n",
      "  (4284, 1)\t1.0\n",
      "  (4812, 1)\t1.0\n",
      "  (4912, 1)\t1.0\n",
      "  (2633, 2)\t1.0\n",
      "  (4284, 2)\t1.0\n",
      "  (6992, 2)\t1.0\n",
      "  (1666, 3)\t1.0\n",
      "  (2382, 4)\t1.0\n",
      "  (8676, 4)\t1.0\n",
      "  (8954, 4)\t1.0\n",
      "  (9349, 4)\t1.0\n",
      "  (4342, 5)\t1.0\n",
      "  (5778, 5)\t1.0\n",
      "  (7435, 5)\t1.0\n",
      "  (1674, 6)\t1.0\n",
      "  (6620, 6)\t1.0\n",
      "  (7749, 7)\t1.0\n",
      "  (9113, 7)\t1.0\n",
      "  (5672, 8)\t1.0\n",
      "  :\t:\n",
      "  (8490, 9350)\t1.0\n",
      "  (2405, 9351)\t1.0\n",
      "  (5031, 9351)\t1.0\n",
      "  (1343, 9352)\t1.0\n",
      "  (1967, 9352)\t1.0\n",
      "  (458, 9353)\t1.0\n",
      "  (624, 9353)\t1.0\n",
      "  (4184, 9354)\t1.0\n",
      "  (1469, 9355)\t1.0\n",
      "  (4780, 9355)\t1.0\n",
      "  (6214, 9355)\t1.0\n",
      "  (1461, 9356)\t1.0\n",
      "  (3839, 9356)\t1.0\n",
      "  (4738, 9356)\t1.0\n",
      "  (8585, 9356)\t1.0\n",
      "  (8671, 9356)\t1.0\n",
      "  (1754, 9357)\t1.0\n",
      "  (4434, 9357)\t1.0\n",
      "  (2437, 9358)\t1.0\n",
      "  (3555, 9358)\t1.0\n",
      "  (3631, 9358)\t1.0\n",
      "  (4399, 9358)\t1.0\n",
      "  (7474, 9358)\t1.0\n",
      "  (1067, 9359)\t1.0\n",
      "  (2160, 9359)\t1.0 [[0 1 0 0 0]\n",
      " [0 1 0 0 0]\n",
      " [0 1 0 0 0]\n",
      " ...\n",
      " [0 0 1 0 0]\n",
      " [0 0 1 0 0]\n",
      " [0 0 1 0 0]]\n"
     ]
    }
   ],
   "source": [
    "import scipy.io as sio\n",
    "import numpy as np\n",
    "from torch_geometric.utils import remove_self_loops,from_scipy_sparse_matrix\n",
    "\n",
    "file = 'acmv9.mat'\n",
    "net = sio.loadmat(file)\n",
    "X, A, Y = net['attrb'], net['network'], net['group']\n",
    "\n",
    "Y = torch.max(torch.from_numpy(Y).to(torch.int64), dim=1)\n",
    "edge_index, edge_weight = from_scipy_sparse_matrix(A)\n",
    "\n",
    "print (edge_index, edge_weight)\n",
    "\n",
    "print (X, A, Y)"
   ]
  },
  {
   "cell_type": "code",
   "execution_count": null,
   "id": "7c820885",
   "metadata": {},
   "outputs": [],
   "source": []
  }
 ],
 "metadata": {
  "kernelspec": {
   "display_name": "Python 3 (ipykernel)",
   "language": "python",
   "name": "python3"
  },
  "language_info": {
   "codemirror_mode": {
    "name": "ipython",
    "version": 3
   },
   "file_extension": ".py",
   "mimetype": "text/x-python",
   "name": "python",
   "nbconvert_exporter": "python",
   "pygments_lexer": "ipython3",
   "version": "3.7.13"
  }
 },
 "nbformat": 4,
 "nbformat_minor": 5
}
